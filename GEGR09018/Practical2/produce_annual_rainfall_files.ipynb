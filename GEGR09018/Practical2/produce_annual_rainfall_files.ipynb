{
 "cells": [
  {
   "cell_type": "markdown",
   "metadata": {},
   "source": [
    "First, we load the pandas module and use this to read in the large .csv file, which contain all 14 years of flow data."
   ]
  },
  {
   "cell_type": "code",
   "execution_count": null,
   "metadata": {},
   "outputs": [],
   "source": [
    "import pandas as pd\n",
    "flowdf = pd.read_csv('19006_gdf.csv')\n",
    "flowdf"
   ]
  },
  {
   "cell_type": "markdown",
   "metadata": {},
   "source": [
    "Next, we use the search features of pandas to select a dataframe that contains only data from 2001, by imposing that the \"Date\" string contains \"2001\", and then verifying that this gives a new dataframe containing 365 rows:"
   ]
  },
  {
   "cell_type": "code",
   "execution_count": null,
   "metadata": {},
   "outputs": [],
   "source": [
    "df2001 = flowdf[flowdf.Date.str.contains(\"2001\")]\n",
    "df2001"
   ]
  },
  {
   "cell_type": "markdown",
   "metadata": {},
   "source": [
    "Now we use pandas functionality to save this dataframe to a .csv file, which can be read later by pandas. The file it creates will be very similar to the original csv file, but contain only those rows that correspond to 2001.\n",
    "\n",
    "The function `to_csv()` is used. It must be called as `df2001.to_csv()` because it saves data specifically contained in `df2001`. The additional argument `index=False` prevents the column which contains the number of the row from being saved as an additional column in the .csv file."
   ]
  },
  {
   "cell_type": "code",
   "execution_count": null,
   "metadata": {},
   "outputs": [],
   "source": [
    "df2001.to_csv('flow_2001.csv',index=False)\n",
    "df2001 = pd.read_csv('flow_2001.csv')\n",
    "df2001"
   ]
  },
  {
   "cell_type": "markdown",
   "metadata": {},
   "source": [
    "However, we want to do this for *every year* from 2001 to 2014, and then save the results in a new .csv file. To do this, we use a **for loop**:"
   ]
  },
  {
   "cell_type": "code",
   "execution_count": null,
   "metadata": {},
   "outputs": [],
   "source": [
    "import numpy as np\n",
    "\n",
    "for year in np.arange(2001,2015):  # remember, 2015 will not be included\n",
    "    # for each of years 2001 to 2014, we limit the dataframe to this year\n",
    "    df_year = flowdf[flowdf.Date.str.contains(str(year))]\n",
    "    # we now can save this data to its own .csv file\n",
    "    df_year.to_csv('WoL_' + str(year) + '_flow.csv',index=False)"
   ]
  },
  {
   "cell_type": "markdown",
   "metadata": {},
   "source": [
    "Next we do the same to create 14 years of rain fall data:"
   ]
  },
  {
   "cell_type": "code",
   "execution_count": null,
   "metadata": {},
   "outputs": [],
   "source": [
    "flowdf = pd.read_csv('19006_cdr.csv')\n",
    "for year in np.arange(2001,2015):  # remember, 2015 will not be included\n",
    "    # for each of years 2001 to 2014, we limit the dataframe to this year\n",
    "    df_year = flowdf[flowdf.Date.str.contains(str(year))]\n",
    "    # we now can save this data to its own .csv file\n",
    "    df_year.to_csv('WoL_' + str(year) + '_rain.csv',index=False)"
   ]
  }
 ],
 "metadata": {
  "kernelspec": {
   "display_name": "Python 3",
   "language": "python",
   "name": "python3"
  },
  "language_info": {
   "codemirror_mode": {
    "name": "ipython",
    "version": 3
   },
   "file_extension": ".py",
   "mimetype": "text/x-python",
   "name": "python",
   "nbconvert_exporter": "python",
   "pygments_lexer": "ipython3",
   "version": "3.7.6"
  }
 },
 "nbformat": 4,
 "nbformat_minor": 4
}

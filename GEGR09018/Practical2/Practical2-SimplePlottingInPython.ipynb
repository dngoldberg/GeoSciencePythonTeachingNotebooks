{
 "cells": [
  {
   "cell_type": "markdown",
   "metadata": {},
   "source": [
    "# Key Methods in Physical Geography\n",
    "# Computing Practical 2: Introduction to Programming in Python\n",
    "\n",
    "This is a Jupyter notebook running on the University of Edinburgh Noteable Service (https://www.ed.ac.uk/information-services/learning-technology/noteable/about). Notebooks are interactive documents that can contain computer code (Python for this course), text and images.\n",
    "\n",
    "For some components in this notebook, data files will be used. Any data file that is used for plotting with this and other notebooks needs to be uploaded to the Jupyter server -- though for today, these files are provided for you.\n",
    "\n",
    "### Key Learning Outcomes\n",
    "\n",
    "- Understand Modules: what they are, and why they are important in Python\n",
    "\n",
    "- Understand Lists, Arrays, and their Distinctions \n",
    "\n",
    "- Plotting with Matplotlib\n",
    "\n",
    "- Reading and plotting physical geography data in Python\n",
    "\n",
    "- Formatting plots and figures\n",
    "\n",
    "- Batch processing (`for`-loops) to serialise tasks\n",
    "\n",
    "\n",
    "**IMPORTANT**: Be sure to run the cell immediately below, which contains the text\n",
    "```python\n",
    "!python produce_annual_rainfall_files.py\n",
    "```\n",
    "This will create data files that will be used later for plotting (so that you did not need to import 28 extra files). In fact, this command will itself call a file which packages Python code to be called outwith a notebook -- as notebooks are not the only way in which Python code can be run."
   ]
  },
  {
   "cell_type": "code",
   "execution_count": 1,
   "metadata": {},
   "outputs": [],
   "source": [
    "!python produce_annual_rainfall_files.py"
   ]
  },
  {
   "cell_type": "markdown",
   "metadata": {},
   "source": [
    "Now that you have run this cell, you should see a number of files (e.g. `WoL_2001_rain.csv`) appear in your Jupyter folder for this practical. If you do not, please contact a demonstrator; these files will be required for plotting exercises later on!"
   ]
  },
  {
   "cell_type": "markdown",
   "metadata": {},
   "source": [
    "## Comments\n",
    "\n",
    "You saw examples of this in the previous notebook, but we will now touch on it explicitly. In addition to code for Python to execute, programs should always contain text comments to make them easier for human readers to understand. Comments can be used to explain what the code does to someone else reading your code or to remind you. Python ignores any lines of text (called a\n",
    "docstring) between pairs of \"\"\" marks and anything on a line after a #, as in the cell below. If you run the cell, you will see the result is no different than it was before."
   ]
  },
  {
   "cell_type": "code",
   "execution_count": null,
   "metadata": {},
   "outputs": [],
   "source": [
    "\"\"\"\n",
    "Give an explanation of what the program does,\n",
    "taking as many lines as you need\n",
    "\"\"\"\n",
    "# This comment is ignored by Python\n",
    "print('Hello World!') # ... and so is this one "
   ]
  },
  {
   "cell_type": "markdown",
   "metadata": {},
   "source": [
    "## Key Learning: Modules\n",
    "\n",
    "Python has some built-in functions, such as `len()` and the basic maths functions that we use for arithmetic, but collections of other functions can be imported from modules. Many modules have been developed for Python. Two of the most common are `NumPy` which has a host of general data analysis tools and `Matplotlib` which has key plotting features; but there are other more specialised modules for geo-data analysis, such as `Xarray` and `Rasterio`, which we will use later in the course."
   ]
  },
  {
   "cell_type": "markdown",
   "metadata": {},
   "source": [
    "Modules must be imported before you can use their functions, so it is convenient to import the\n",
    "modules you need at the start of a program. There are several ways to import modules. For example,\n",
    "NumPy contains a function called `arange()` which generates an array of equally spaced numbers in\n",
    "a given range. If you supply an integer as an argument, it will make an array of that many numbers,\n",
    "starting from zero, i.e. `arange(11)` returns the 11 numbers from 0 to 10. To do this in a program,\n",
    "you could type\n",
    "\n",
    "```python\n",
    "import numpy\n",
    "x = numpy.arange(11)\n",
    "```\n",
    "\n",
    "But we might want to type less when we use NumPy so we can set an abbreviation:\n",
    "\n",
    "```python\n",
    "import numpy as np\n",
    "x = np.arange(11)\n",
    "```\n",
    "\n",
    "If you only want to use one function from a module you could import that, and then you need not type `np` afterwards:\n",
    "\n",
    "```python\n",
    "from numpy import arange\n",
    "x = arange(11)\n",
    "```\n",
    "\n",
    "Or you could import everything from NumPy (but for certain modules this is not always advisable)\n",
    "\n",
    "```python\n",
    "from numpy import *\n",
    "x = arange(11)\n",
    "```\n",
    "\n",
    "**Note that when you run these commands, nothing will happen!** You will need to `print(x)` to see any output.\n",
    "\n",
    "In the cell below use the 2nd option above to import numpy, and on the next line type \n",
    "\n",
    "```python\n",
    "help(np.arange)\n",
    "```\n",
    "and run the cell. This will give more documentation for `arange`."
   ]
  },
  {
   "cell_type": "code",
   "execution_count": 7,
   "metadata": {},
   "outputs": [
    {
     "name": "stdout",
     "output_type": "stream",
     "text": [
      "[ 0  1  2  3  4  5  6  7  8  9 10]\n",
      "[ 0  1  2  3  4  5  6  7  8  9 10]\n",
      "[ 0  1  2  3  4  5  6  7  8  9 10]\n",
      "[ 0  1  2  3  4  5  6  7  8  9 10]\n"
     ]
    }
   ],
   "source": [
    "import numpy\n",
    "x = numpy.arange(11)\n",
    "print(x)\n",
    "\n",
    "import numpy as np\n",
    "x = np.arange(11)\n",
    "print(x)\n",
    "\n",
    "from numpy import arange\n",
    "x = arange(11)\n",
    "print(x)\n",
    "\n",
    "from numpy import *\n",
    "x = arange(11)\n",
    "print(x)"
   ]
  },
  {
   "cell_type": "markdown",
   "metadata": {},
   "source": [
    "If you printed out the documentation for `arange`, near the top you will see the way in which it should be called:\n",
    "\n",
    "```python\n",
    "arange([start,] stop[, step,], dtype=None)\n",
    "```\n",
    "\n",
    "This tells us that `arange` has several **arguments** (i.e. inputs), but the ones in square brackets are optional, and only the `stop` argument is necessary. So `arange(11)` will return (0,1, .. 10), but `arange(5,11)` will return (5,6, .. 10), as we have changed the `start` from a default of 1. Additionally we can specify the `step` argument to give *increments* other than 1.\n",
    "\n",
    "In the following cell, write a program that prints numbers 0 to 10, one that prints numbers 1 to 10, and one that prints 0 to 1 in increments of 0.1. "
   ]
  },
  {
   "cell_type": "code",
   "execution_count": 4,
   "metadata": {},
   "outputs": [
    {
     "data": {
      "text/plain": [
       "0.0"
      ]
     },
     "execution_count": 4,
     "metadata": {},
     "output_type": "execute_result"
    }
   ],
   "source": [
    "np.sin(0)"
   ]
  },
  {
   "cell_type": "markdown",
   "metadata": {},
   "source": [
    "## Key Learning: Lists versus Numpy Arrays\n",
    "\n",
    "Python has a built-in function range() which returns a list of sequential integers – though you must tell python to use a list. Both of the following return the numbers 0 to 10: \n",
    "```python\n",
    "var1 = list (range(11))\n",
    "var2 = arange(11)\n",
    "```\n",
    "But `var1` and `var2` are fundamentally different types of objects. The first is a list; the second is an array. A Python list can contain any mix of data types but **you have to know what type of data you are dealing with to know which mathematical methods can be applied**. A NumPy array is similar to a list but can only contain integer or real numbers and therefore can be manipulated mathematically.\n",
    "\n",
    "In the following cell an array and a list are declared, then each is added to itself. \n",
    "\n",
    "Modify it to add the value 3 to the array **only** and print the result; to multiply the array **only** by 3 (and print the result), and to multiply the array by itself (and print the result). Can you work out from the output what is being done in each case?\n",
    "\n",
    "Now modify the code to do the same operations with the list. Are these operations allowed, i.e. is a result printed or is there an error? This is an example of an operation only being viable depending on the types of variables it is applied to. \n",
    "\n",
    "Note that `import numpy as np` is not called in this cell; this is because it was called in a previous cell. If the notebook were to restart (e.g. \"Kernel\" ==> \"Restart\") you would need to call it again in this cell. There is no harm, however, in doing so."
   ]
  },
  {
   "cell_type": "code",
   "execution_count": null,
   "metadata": {},
   "outputs": [],
   "source": [
    "# Define an array and a list\n",
    "x1 = np.arange(0,11)\n",
    "x2 = list(range(0,11))\n",
    "\n",
    "print('add the array to itself:')\n",
    "print (x1 + x1)\n",
    "print('add the list to itself:')\n",
    "print (x2 + x2)\n",
    "\n",
    "# operations on array\n",
    "\n",
    "# operations on list"
   ]
  },
  {
   "cell_type": "markdown",
   "metadata": {},
   "source": [
    "## Key Learning: Plotting in Python (Matplotlib)\n",
    "\n",
    "You are now ready to create your first figure in Python. It will be a simple one!\n",
    "\n",
    "The program below creates an array of `sin(x)` from 0 to 2$\\pi$ and plots it, using small circles as markers (note that NumPy must be used for $\\pi$ with `np.pi`). Run the cell to see what happens! Note there is a new module used: `matlplotlib.pyplot`, abbreviated as `plt`.\n",
    "\n",
    "Now type \n",
    "\n",
    "``` python\n",
    "help (plt.plot)\n",
    "``` \n",
    "\n",
    "in the cell and run again to see the documentation for `plot`. There are some helpful examples near the top of the documentation. See if you can modify the code so that (a) there is a solid line, and (b) there is a red, solid line, and (c) there are blue '$+$' signs instead of blue dots. (once you are done with the documentation you can delete the `help (plt.plot)`.)"
   ]
  },
  {
   "cell_type": "code",
   "execution_count": null,
   "metadata": {},
   "outputs": [],
   "source": [
    "\"\"\"\n",
    "Example plotting program\n",
    "\"\"\"\n",
    "# import the required modules\n",
    "import matplotlib.pyplot as plt\n",
    "import numpy as np\n",
    "# create an array of numbers from 0 to 2 pi in increments of 0.1\n",
    "x = np.arange(0, 2*np.pi, 0.1)\n",
    "# create and array containing the sines of every number in x\n",
    "y = np.sin(x)\n",
    "# make and display a scatter plot of x and y\n",
    "\n",
    "plt.plot(x, y, 'o')"
   ]
  },
  {
   "cell_type": "markdown",
   "metadata": {},
   "source": [
    "### Figure file formats\n",
    "\n",
    "You can save figures to files to use in papers and presentations. Figures are saved from the Matplotlib window in PNG (Portable Network Graphics) format by default, but several other image formats can be selected instead. In the previous cell, if you type\n",
    "\n",
    "```python\n",
    "plt.savefig('fig.png')\n",
    "```\n",
    "\n",
    "after the last figure is created, this figure will be saved automatically as `fig.png` in your working Jupyter notebook folder. (*check this!!!*) You can now download the file from the Jupyter file system.\n",
    "\n",
    "You can tell Python what format you want to save an image in by selecting the extension on the end of the file name. For instance, \n",
    "\n",
    "```python\n",
    "plt.savefig('fig.pdf')\n",
    "```\n",
    "\n",
    "will save the figure as Portable Document Format (.pdf)."
   ]
  },
  {
   "cell_type": "markdown",
   "metadata": {},
   "source": [
    "## Key Learning: Reading and plotting physical geography data\n",
    "\n",
    "**IMPORTANT!!!** If you have not run the very first cell of the notebook, which reads:\n",
    "```python\n",
    "!python produce_annual_rainfall_files.py\n",
    "```\n",
    "Do so now. Once you have done this, files `WoL_2***_rain.csv` and `WoL_2***_flow.csv` should appear in your Jupyter folder, where `2***` includes the years from 2001 to 2014. (check this!!!)\n",
    "\n",
    "Data can be read from files, such as text or excel (.csv) files, and plotted using Python. The NumPy library can be used to read in data, but we will use a slightly different method -- it takes slightly longer, but introduces methods of handling data that are much more powerful and more widely used by geoscientific data scientists.\n",
    "\n",
    "We are going make use of plots to compare rainfall and flow rate for the Water of Leith, here in Edinburgh. Data for rivers across the UK can be found at the National River Flow Archive (https://nrfa.ceh.ac.uk/data/search). The data we will use today has been downloaded for the gauging station for the Water of Leith at Murrayfield for 2014, the latest year for which there is complete data posted for both rainfall and flow -- but records go back to 1963 for this and many other rivers in the country.\n",
    "\n",
    "There are two CSV-format files that have been copied over with your practical notebooks into your personal Jupyter space, WoL_2014_rain.csv and WoL_2014_flow.csv. A .csv file is a text file, but one that can be opened in Excel as a spreadsheet (you can download the files and try it). Each has two columns: a **Date** column and, for the flow rate file, a **Flowrate** column, in units of m$^3$/s; and for the rain file, a **Rainfall** column, in mm water per day within the catchment of the river at that point.\n",
    "\n",
    "We are going to use the  **pandas** Python data analysis toolkit to extract the data from these files and plot it. Like NumPy, `pandas` is a module that we need to add, which then provides a number of useful function.\n",
    "\n",
    "In the cell below, the `pandas` module is imported with alias `pd`. The function `read_csv` is then used to read the figure into a *variable* called `raindf`. This is a new concept -- `raindf` is not a number, or a character string, but an **object**. Specifically, it is a **data frame**, which is a *collection* of data that reflects what is in the .csv file, but in a useable form. In a sense, `raindf` a copy of the excel file which we can use in Python.\n",
    "\n",
    "`pd.read_csv` can have a lot of extra *arguments* other than the name of the file, for instance if you only want to read a *portion* of the file, or you do not want to use every column (or if you do not like the column names!) You can pass *additional arguments* to `read_csv`, but these are optional -- you can see https://pandas.pydata.org/pandas-docs/stable/reference/api/pandas.read_csv.html for a description of these arguments. But in general, we use the simplest method of calling the function that will suit our purpose.\n",
    "\n",
    "Immediately below this line, write an additional line to read the flow rate into a data frame called `flowdf`."
   ]
  },
  {
   "cell_type": "code",
   "execution_count": 2,
   "metadata": {},
   "outputs": [],
   "source": [
    "import pandas as pd\n",
    "\n",
    "# import 2014 rainfall\n",
    "raindf = pd.read_csv('WoL_2014_rain.csv')\n",
    "\n",
    "# import 2014 flowrate"
   ]
  },
  {
   "cell_type": "markdown",
   "metadata": {},
   "source": [
    "If you type `raindf` in the next cell and run it, you will see an overview of the contents of the data frame. (Try it!) This will tell you how many rows there are in the file. It tells us the names of the data columns, which we can use to plot the data. (Note the last record is numbered **364** -- this is because the first record is numbered 0. Zero-indexing is very common in programming, and can cause difficulty if you are not aware of it!)"
   ]
  },
  {
   "cell_type": "code",
   "execution_count": null,
   "metadata": {},
   "outputs": [],
   "source": []
  },
  {
   "cell_type": "markdown",
   "metadata": {},
   "source": [
    "To access the rainfall data, we use\n",
    "```python\n",
    "    raindf.Rainfall\n",
    "```\n",
    "This provides an array which we can plot. \n",
    "\n",
    "In the cell below, use a similar method to assign `flowdf.Flowrate` to an array `flow` and then plot rainfall using Matplotlib.pyplot as before. Note that previously, we had arrays `x` and `y` to plot. Now we do not have a numerical variable for the $x$-axis (the \"Date\" column contains *strings* -- which we cannot plot). This is ok -- we can simply call `plt.plot(flow)`, which is equivalent to `plt.plot(np.arange(0,365),flow)`. What does the plot look like? How large does the flow rate get in 2014, and how often did this occur? What would have driven these high flow rates?"
   ]
  },
  {
   "cell_type": "code",
   "execution_count": null,
   "metadata": {},
   "outputs": [],
   "source": []
  },
  {
   "cell_type": "markdown",
   "metadata": {},
   "source": [
    "### Extra learning: Selecting and saving data with pandas\n",
    "\n",
    "The annual 2014 files you are working with were themselves generated using `pandas`. You were provided \"master\" files `19006_cdr.csv` and `19006_gdf.csv` containing daily rain and flow data from 2001 to 2014. `pandas` provides a way to select *subsets* of data frames based on *criteria*, such as the year in which the data is gathered; these refined data frames can then be *saved* to excel .csv files for later reading (in Python or other applications). The commands to do this have been run already, but if you would like to see an explanation, you can look over the notebook `produce_annual_rainfall_files.ipynb`, which contains the same commands."
   ]
  },
  {
   "cell_type": "markdown",
   "metadata": {},
   "source": [
    "## Key Learning: Formatting plots\n",
    "\n",
    "To make a plot look professional, it is important to be able to format it. This means labelling the axes properly, and controlling the font of axis labels. Let's start by labelling the axes. The function `plt.xlabel()` can be used to label the x axis, and takes a string as an argument e.g. `plt.xlabel('cat')`. `plt.ylabel()` is similar.\n",
    "\n",
    "In the above figure, label the x-axis \"Day of year\", and the y-axis \"Flow Rate (m$^3$/s)\". To have a superscript, you will need to use mathematical formatting: \n",
    "```python\n",
    "'m$^3$'\n",
    "```\n",
    "formats as m$^3$. For subscript, we use `_` instead of `^`. \n",
    "\n",
    "You can use an *optional* argument `fontsize` to change the size of the axis labels. This can be done by calling e.g.\n",
    "```python\n",
    "plt.xlabel('something',fontsize=15)\n",
    "```\n",
    "Experiment with changing the size of the font labels.\n",
    "\n",
    "To do these tasks in the cell below, you will unfortunately need to copy and paste your code from the cell above to plot the `rain` variable. Once a plot is created within a notebook cell, it cannot be changed in subsequent cells (but can be changed by modifying the cell in which it was created!)\n",
    "\n",
    "Using [this reference](https://matplotlib.org/3.3.2/api/_as_gen/matplotlib.pyplot.plot.html), try to change the line color to green. You can also find additional options for `plt.xlabel` [here]\n",
    "(https://matplotlib.org/3.3.2/api/text_api.html#matplotlib.text.Text).\n",
    "\n"
   ]
  },
  {
   "cell_type": "code",
   "execution_count": null,
   "metadata": {},
   "outputs": [],
   "source": [
    "flow = flowdf.Flowrate\n",
    "plt.plot(flow)\n",
    "\n",
    "# formatting code below"
   ]
  },
  {
   "cell_type": "markdown",
   "metadata": {},
   "source": [
    "Make a similar plot of rainfall, and make the curve red. What do you see? Can you make a comparison with flow rate?"
   ]
  },
  {
   "cell_type": "code",
   "execution_count": null,
   "metadata": {},
   "outputs": [],
   "source": [
    "rain = raindf.Rainfall\n",
    "plt.plot(rain)\n",
    "\n",
    "# formatting code below"
   ]
  },
  {
   "cell_type": "markdown",
   "metadata": {},
   "source": [
    "## Key Learning: using Batch Processing to plot from multiple data sources\n",
    "\n",
    "A strength of using a programming language instead of a GIS tool is the potential to carry out **batch processing**. We will not carry out high-level batch-processing here but will introduce a **key component**: repetition of a set of simple commands, using a feature in Python called a **for-loop**. The for-loop allows us to write a set of commands that will be carried out multiple times, but with a simple, *predictable* change each time it is called. For instance, we may want to process a number of geotiff rasters containing canopy height, for the same location but in different years. If we can write code to process just one of these files, we can devise a for-loop to process as many files as we want -- *without taking the time to write the additional code*.\n",
    "\n",
    "We will see this by using a very simple task which we would like to replicate -- plotting multiple sets of data in a single figure. In keeping with the river data theme, let's plot data from 5 separate years of WoL flow rate data -- but instead of 1 continuous series, overlaying the data on top of each other. However, we will only type a call the `plot` command once.\n",
    "\n",
    "In the following cell, a for-loop is constructed, so named because it begins with the word `for`. A for-loop is basically telling Python, \"for this collection of items... do these instructions\".\n",
    "\n",
    "The first line of the for-loop is:\n",
    "```python\n",
    "for year in np.arange(2001,2006):\n",
    "```\n",
    "We know that `np.arange` produces an array of values: `2001, 2002, 2003, 2004, 2005`. (why not 2006?) These are the years for which we want to plot flow data. *But how??*\n",
    "\n",
    "The three following indented lines are then run *multiple* times -- once for each value in the array `np.arange(2001,2006)`. Importantly, each time the lines are called, the variable `year` has a different value. Thus we can write code which takes advantage of this changing variable, called a *loop variable*. Thus when `year=2003`, the for-loop will open, and plot, the file `WoL_2003_flow.csv`, and when `year=2005`, the for-loop will open, and plot, the file `WoL_2005_flow.csv`. This is done through the command\n",
    "```python\n",
    "df_year = pd.read_csv('WoL_' + str(year) + '_flow.csv')\n",
    "```\n",
    "This command converts the integer variable `year` to a string, and concatenates this string to produce the appropriate file name. With each new value of `year`, `df_year` then holds different data. We do not need to specify a line color, pyplot will do this for us. Note that we only write instructions to process the data once. **Imagine processing thousands of raster files, one at a time**.\n",
    "\n",
    "In the following cell, try to construct a figure of flow rate for the years 2001 to 2014. After this, try modifying to produce a plot of annual *rainfall* for these years. To create a new figure within the same cell, type \n",
    "\n",
    "```python\n",
    "plt.figure()\n",
    "```\n",
    "\n",
    "to indicate you are creating a new figure."
   ]
  },
  {
   "cell_type": "code",
   "execution_count": null,
   "metadata": {},
   "outputs": [],
   "source": [
    "for year in np.arange(2001,2006):\n",
    "    df_year = pd.read_csv('WoL_' + str(year) + '_flow.csv')\n",
    "    flow = df_year.Flowrate\n",
    "    plt.plot(flow)"
   ]
  },
  {
   "cell_type": "code",
   "execution_count": null,
   "metadata": {},
   "outputs": [],
   "source": []
  },
  {
   "cell_type": "markdown",
   "metadata": {},
   "source": [
    "## Further learning\n",
    "\n",
    "The material below this point can be considered enrichment learning. If you do not go beyond this point, you have still met the learning objectives of this practical, and you can consider the exercises below as reference for advanced plot formatting at a later date."
   ]
  },
  {
   "cell_type": "markdown",
   "metadata": {},
   "source": [
    "### Adding legends to figures\n",
    "\n",
    "In the figures you created above, it is difficult to tell which line corresponds to which year. This is where figure **legends** are useful. To add a legend, we need to add a **label** to each line that we plot -- this is done using the `label` argument to `plot`. In the following cell, flow rate data from multiple years is plotted, and each time a plot is made, a label is assigned. Then the command `plt.legend()` is called, which creates a legend based on the label information given.\n",
    "\n",
    "The label is always the same: \"FlowLabel\". Try to modify the code to indicate which curve corresponds to each year. *hint: use the* `year` *variable*.\n",
    "\n",
    "In which year was the maximum flow rate measured?"
   ]
  },
  {
   "cell_type": "code",
   "execution_count": null,
   "metadata": {},
   "outputs": [],
   "source": [
    "for year in np.arange(2001,2006):\n",
    "    df_year = pd.read_csv('WoL_' + str(year) + '_flow.csv')\n",
    "    flow = df_year.Flowrate\n",
    "    plt.plot(flow,label='FlowLabel')\n",
    "plt.legend()    "
   ]
  },
  {
   "cell_type": "markdown",
   "metadata": {},
   "source": [
    "### Modifying tick labels using lists\n",
    "\n",
    "Having \"Day of Year\" as an x-label is not very convenient -- we have to guess where e.g. 1 May is on the plot. \n",
    "\n",
    "Let's relable the \"ticks\" on the plot according to the month. We can use matplotlib to pass in a list of labels, along with a list of \"locations\" for the labels. We use a function called `plt.xticks`:\n",
    "\n",
    "```python\n",
    "plt.xticks(locs,labels)\n",
    "```\n",
    "where the *arguments* `locs` and `labels` need to be lists giving the locations of the ticks and the labels you want to use. In this case, the \"locations\" are the first day of each month:\n",
    "```python\n",
    "listdays = [1, 32, 60, 91, 121, 152, 182, 213, 244, 274, 305, 335]\n",
    "```\n",
    "For the list of month abbreviations, this is provided as a list called `month_abbr` in the `calendar` module. Import this using\n",
    "```python\n",
    "from calendar import month_abbr\n",
    "```\n",
    "With these two lists, use the `plt.xticks` function to label the bottom axis by month. However, the first entry in the list `month_abbr` is empty -- so we need to pass `month_abbr[1:]` as an argument. This might not make sense now, but you will see why in the next practical.\n",
    "\n",
    "Note -- if you do not terminate the last line with a \";\", you will see a lot of nonsense text before the plot!\n",
    "\n",
    "Again, you will need to create the above figure anew in the next cell. "
   ]
  },
  {
   "cell_type": "code",
   "execution_count": null,
   "metadata": {},
   "outputs": [],
   "source": [
    "listdays = [1, 32, 60, 91, 121, 152, 182, 213, 244, 274, 305, 335]\n",
    "\n",
    "rain = raindf.Rainfall\n",
    "plt.plot(np.arange(0,365),rain,color='red')\n",
    "plt.xlabel('Day of year',fontsize=15);\n",
    "plt.ylabel('Rainfall (mm per day)',fontsize=15);\n",
    "\n",
    "# use xticks to add ticks to plot "
   ]
  },
  {
   "cell_type": "markdown",
   "metadata": {},
   "source": [
    "### Plots with different scales\n",
    "\n",
    "Sometimes we would like to plot related data in the same figure to allow better comparison, even if the two data sets are of differnt scales. It is possible to do this in Python with a few extra steps.\n",
    "\n",
    "In the cell below, `plt.subplots` is called, even though it was not before. This gives us more control over the axes of the figure.\n",
    "\n",
    "```python\n",
    "_, ax1 = plt.subplots()\n",
    "```\n",
    "looks a bit strange. This way of calling a function means that two \"objects\" are returned. We do not care about the first, and so `_` is a placeholder. `ax1` is an object variable which lets us format the axes (and add an additional axis).\n",
    "\n",
    "The commands to set the axis labels are slightly different than we used before. The comments below describe what each does. \n",
    "\n",
    "The command \n",
    "```python\n",
    "ax2 = ax1.twinx()\n",
    "```\n",
    "creates a second axis to plot Flow Rate. Try to write similar commands, using `ax2` rather than `ax1`, to plot flow rate (in blue) on the right hand axis. \n",
    "\n",
    "You can additionally label the x tick labels by month, but things are slightly different. You must pass the locations with `ax1.set_ticks()` and the labels with `ax1.set_ticklabels()` separately. Try this as well.\n",
    "\n",
    "If done correctly you will see rain and flow rate data on the same figure. Now we can compare the two better. Does higher rainfall lead to higher flow rate? Is this always the case? Why or why not might this be?\n",
    "\n",
    "In the next practical, we will see how to use the statistical module to find correlation between Flow rate and Rainfall, quantifying the relationship between the plots."
   ]
  },
  {
   "cell_type": "code",
   "execution_count": null,
   "metadata": {},
   "outputs": [],
   "source": [
    "import matplotlib.pyplot as plt\n",
    "\n",
    "_, ax1 = plt.subplots()\n",
    "\n",
    "# set the x axis label\n",
    "ax1.set_xlabel('Day of year')\n",
    "\n",
    "# set the y axis label, and the text color\n",
    "ax1.set_ylabel('Rainfall (mm/day)', color='red')\n",
    "\n",
    "# plot rain data with a red curve\n",
    "ax1.plot(rain, color='red')\n",
    "\n",
    "# set the tick label color for rainfall to red\n",
    "ax1.tick_params(axis='y', labelcolor='red')\n",
    "\n",
    "\n",
    "# create a second axis to plot flow rate\n",
    "ax2 = ax1.twinx()\n",
    "\n"
   ]
  },
  {
   "cell_type": "code",
   "execution_count": null,
   "metadata": {},
   "outputs": [],
   "source": []
  }
 ],
 "metadata": {
  "kernelspec": {
   "display_name": "Python 3",
   "language": "python",
   "name": "python3"
  },
  "language_info": {
   "codemirror_mode": {
    "name": "ipython",
    "version": 3
   },
   "file_extension": ".py",
   "mimetype": "text/x-python",
   "name": "python",
   "nbconvert_exporter": "python",
   "pygments_lexer": "ipython3",
   "version": "3.7.6"
  }
 },
 "nbformat": 4,
 "nbformat_minor": 4
}

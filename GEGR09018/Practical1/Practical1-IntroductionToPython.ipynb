{
 "cells": [
  {
   "cell_type": "markdown",
   "metadata": {},
   "source": [
    "# Key Methods in Physical Geography\n",
    "# Computing Practical 1: Introduction to Programming in Python"
   ]
  },
  {
   "cell_type": "markdown",
   "metadata": {},
   "source": [
    "## LEARNING OUTCOMES\n",
    "\n",
    "After this practical, you should be able to:\n",
    "\n",
    "1. \"run\" a Python notebook\n",
    "\n",
    "1. Define variables in Python and use them in simple Python statements and commands\n",
    "\n",
    "2. Understand the difference between string variables and variable names\n",
    "\n",
    "3. Determine which variables are defined in your Python environment\n",
    "\n",
    "4. Call simple Python functions, including mathematical ones\n",
    "\n",
    "5. Understand the output of Python statements using the `print()` command"
   ]
  },
  {
   "cell_type": "markdown",
   "metadata": {},
   "source": [
    "This is a Jupyter notebook running on the University of Edinburgh Noteable Service (https://www.ed.ac.uk/information-services/learning-technology/noteable/about). Notebooks are interactive documents that can contain computer code (Python for this course), text and images.\n",
    "\n",
    "\n",
    "## Hello World\n",
    "\n",
    "It is a programming cliché that the first program you write when learning a new language is one that just makes the computer print “Hello World!” on the screen (http://helloworldcollection.de/ has examples of this program in many programming languages). To do this in Python, type`print('Hello World!')` in the blank cell below and press the $\\blacktriangleright\\!|$ `Run` button above."
   ]
  },
  {
   "cell_type": "code",
   "execution_count": 1,
   "metadata": {},
   "outputs": [
    {
     "name": "stdout",
     "output_type": "stream",
     "text": [
      "whatever\n"
     ]
    }
   ],
   "source": [
    "print ('whatever')"
   ]
  },
  {
   "cell_type": "markdown",
   "metadata": {},
   "source": [
    "Now, the first thing we need to get used to when learning to program is **errors**. Almost all code contains errors the first time it is written. This is completely fine. But it is important to understand the error messages that Python provides for us, so that we can *learn from our mistakes*.\n",
    "\n",
    "In the cell above, change the text to `print(Hello World!)` and press the $\\blacktriangleright\\!|$ `Run` button again. Rather than seeing our message, you will see some multicolored text. The text in red tells us what we did wrong (a *syntax error*) and the offending line of code. Do you know what the error was? How does your code differ from the first time? \n",
    "\n",
    "Syntax errors are very common -- in this case, there must be quotes around the Hello World **string** of characters. You will run into syntax errors with more complicated codes, and while the error message will not always say what you did wrong, it will at least give the line of code where you did it."
   ]
  },
  {
   "cell_type": "markdown",
   "metadata": {},
   "source": [
    "## Statements and Variables\n",
    "\n",
    "A *statement* is a line of code that makes Python do something, such as printing a string of text (a **word**) or assigning a value to a variable.\n",
    "\n",
    "Run the two cells below, which assign values to variables `x`, `y` and `z` and do an arithmetic operation, and prints (displays) the result. Do this by clicking on the cell and then the `Run` button, *twice*. If your run the 2nd cell before the 1st, you will get an error, as the *statement* `x = 3.2` has not been run yet, and the Python Interpreter does not recognise `x`.\n",
    "\n",
    "The arithmetic expression `(x * y) ** z` may look strange. The `**` indicates an exponent, like if you want to raise a number to a power. In mathematical terms, this is $(x \\times y)^z$. This actually is OK to do even if `z` is not a whole number, as long as $(x \\times y)$ is not negative. (Try making `y` equal to -4.9 and see what happens!)\n",
    "\n",
    "Try changing the value of $x$ and running again. In order to see the result change, you need to run the cell with the statement that assigns $x$. If you re-run the 2nd cell without the first, then $x$ will never be updated.\n",
    "\n",
    "Finally, try changing the arithmetic expression below to return $(x^2 + y^2 + z^2)^{0.5}$. Can you do it?\n",
    "\n",
    "What we have now is ($x \\times y$)$^z$"
   ]
  },
  {
   "cell_type": "code",
   "execution_count": 2,
   "metadata": {},
   "outputs": [],
   "source": [
    "# define the variable x\n",
    "x = 3"
   ]
  },
  {
   "cell_type": "code",
   "execution_count": 3,
   "metadata": {},
   "outputs": [
    {
     "name": "stdout",
     "output_type": "stream",
     "text": [
      "r is equal to: 50\n"
     ]
    }
   ],
   "source": [
    "# define the variable y\n",
    "y = 4\n",
    "\n",
    "# define the variable z\n",
    "z = 5\n",
    "\n",
    "# assign the value of (x*y) raised to the z to the variable r\n",
    "r = (x**2 + y**2 + z**2) \n",
    "\n",
    "print('r is equal to: ' + str(r))"
   ]
  },
  {
   "cell_type": "markdown",
   "metadata": {},
   "source": [
    "## Strings versus variable names\n",
    "\n",
    "A common source of confusion is between string variables, and the names used for variables (which are themselves strings of characters). See below: two variables, `cat` and `dog`, have *strings* assigned to them. \n",
    "\n",
    "You can think of strings as any list of characters -- be it a recognizable word (or set of words with space characters in between) or nonsense such as `'$#*'`. But when you define a string, it must be enclosed in quotes. \n",
    "\n",
    "Look at the output when you run the cell -- what is the first line of output? Does this make sense? Here, `'dog'` has a completely different meaning than `dog`; the former is a string, while the latter *tells* the Python interpreter that it can be replaced by its value."
   ]
  },
  {
   "cell_type": "code",
   "execution_count": 4,
   "metadata": {},
   "outputs": [
    {
     "name": "stdout",
     "output_type": "stream",
     "text": [
      "dog\n",
      "squirrel\n",
      "squirreldog\n"
     ]
    }
   ],
   "source": [
    "squirrel = 'dog'\n",
    "\n",
    "dog = 'squirrel'\n",
    "\n",
    "# there are quotes around the string [of characters]\n",
    "print ('dog')\n",
    "\n",
    "# there are no quotes around the string\n",
    "print (dog)\n",
    "\n",
    "# does it make sense to add variables that have strings as values?\n",
    "print (dog+squirrel)"
   ]
  },
  {
   "cell_type": "markdown",
   "metadata": {},
   "source": [
    "## Environment\n",
    "\n",
    "At any point, you can see a list of all variables that have been defined. In the cell below, type `who` (all lowercase, no quotes) and the list will be printed. \n",
    "\n",
    "What kinds of variables are these? (Refer back to the brief lecture at the start of the practical, discussing different data types and variable types.)"
   ]
  },
  {
   "cell_type": "code",
   "execution_count": null,
   "metadata": {},
   "outputs": [],
   "source": []
  },
  {
   "cell_type": "markdown",
   "metadata": {},
   "source": [
    "`x` and `dog` shound be among the variables listed. Immediately below the `who`, write\n",
    "\n",
    "`print(type (x))`\n",
    "\n",
    "`print(type (dog))`\n",
    "\n",
    "what type of variable is `x`? A *float* means a 32-bit floating precision number -- which for us means that it is a decimal number. If it were an *integer* (a whole number), then the variable would have a different type. Verify this by adding\n",
    "\n",
    "`print (type(3))`"
   ]
  },
  {
   "cell_type": "code",
   "execution_count": null,
   "metadata": {},
   "outputs": [],
   "source": []
  },
  {
   "cell_type": "markdown",
   "metadata": {},
   "source": [
    "## Functions and user input\n",
    "\n",
    "A function is a sequence of statements called by a name followed by some arguments in parentheses. You will learn how to write functions in a later class, but today we will just use some of Python’s many built-in functions. An example of a function call with a single argument is\n",
    "\n",
    "```python\n",
    "length = len(arg)\n",
    "```\n",
    "\n",
    "which finds **the number of characters** in the string indicated by `arg` and **returns it as a value** -- the result is that the variable `length` now has this value. Here the actual function is `len` while `arg`, the *argument*, should be replaced by a variable. \n",
    "\n",
    "Note: the variable \"length\" could have any name e.g. \n",
    "```python\n",
    "elephant = len(arg)\n",
    "```\n",
    "and this would not change the meaning of the above description. The only name that is important is \"len\", the name of the function -- which is why it appears in a different colour text.\n",
    "\n",
    "In the following cell, the length of a string is found. Modify it to find the length of the variable `dog`. The answer should be 8 -- do you know why? *(ask a demonstrator if it is not clear.)*\n",
    "\n",
    "What is the *type* of the variable `length`? How could you find this out? (Try it!)"
   ]
  },
  {
   "cell_type": "code",
   "execution_count": 5,
   "metadata": {},
   "outputs": [
    {
     "name": "stdout",
     "output_type": "stream",
     "text": [
      "6\n"
     ]
    }
   ],
   "source": [
    "length = len('string')\n",
    "print (length)"
   ]
  },
  {
   "cell_type": "markdown",
   "metadata": {},
   "source": [
    "The function \n",
    "```python\n",
    "ret_string = input(prompt_str)\n",
    "```\n",
    "will prompt you (or someone else) to enter text, and then assign `ret_string` to the text entered. The cell below, when run, will prompt you to type some text and hit enter; once done, it will print the text you entered as well as the character length. However, **it is wrong**: it will always say you typed 5 characters. Fix the code to give the correct length. Test this out with different inputs by rerunning the cell.\n",
    "\n",
    "(*important*: if you advance to the next cell without pressing enter, the code will not work again until you restart the kernel.)"
   ]
  },
  {
   "cell_type": "code",
   "execution_count": null,
   "metadata": {},
   "outputs": [],
   "source": [
    "ret_string = input('antarctica')\n",
    "print('The text you entered is: \"' + ret_string + '\"')\n",
    "print('The number of characters you entered is: ' + str(len('strng')))"
   ]
  },
  {
   "cell_type": "markdown",
   "metadata": {},
   "source": [
    "## Mathematical functions\n",
    "\n",
    "Python is a highly extensible language in which you can ***import*** many ***packages*** to add functionality. For example, you can import a package called NumPy if you want to use mathematical functions. We will talk more about importing packages in the future, but for now just type\n",
    "\n",
    "`import numpy as np`\n",
    "\n",
    "in the next blank cell. (**NOTE**: if you skip this step, then other cells in this notebook might give errors.) Here are a few examples of functions that are now available for you to use: \n",
    "\n",
    "function        |calculates                  | &nbsp; |function        |calculates\n",
    ":---------------|:---------------------------|--------|:---------------|:--------------------------\n",
    "`np.cos(x)`     | cosine of $x$              |        |`np.arccos(x)`  | inverse cosine of $x$\n",
    "`np.sin(x)`     | sine of $x$                |        |`np.arcsin(x)`  | inverse sine of $x$\n",
    "`np.tan(x)`     | tangent of $x$             |        |`np.arctan(x)`  | inverse tangent of $x$\n",
    "`np.deg2rad(x)` | convert degrees to radians |        |`np.rad2deg(x)` | convert radians to degrees\n",
    "`np.exp(x)`     | exponential of $x$         |        |`np.log(x)`     | natural logarithm of $x$\n",
    "`np.sqrt(x)`    | square root of $x$         |        |`np.log10(x)`   | base-10 logarithm of $x$\n",
    "\n",
    "See http://docs.scipy.org/doc/numpy/reference/routines.math.html for the full list.\n",
    "\n",
    "\n",
    "The functions `np.sin()`, `np.cos()` and `np.tan()` have angles as arguments, and their inverse functions return angles as results. Angles are usually measured (by a compass, a clinometer or a protractor) in degrees, but mathematical calculations usually use angles in radians (a radian is defined as the angle subtended by an arc of length 1 on a circle of radius 1, so there are 2$\\pi$ radians in 360$^\\circ$). The functions `np.deg2rad()` and `np.rad2deg()` convert angles between radians and degrees. $\\pi$ is such a useful number that NumPy defines it as a constant; print `np.pi` to see it.\n",
    "\n",
    "What are 0$^\\circ$, 45$^\\circ$ and 90$^\\circ$ in radians? Find the sines and cosines of these angles (use Python even if you know the answers already). "
   ]
  },
  {
   "cell_type": "code",
   "execution_count": null,
   "metadata": {},
   "outputs": [],
   "source": [
    "import numpy as np"
   ]
  },
  {
   "cell_type": "markdown",
   "metadata": {},
   "source": [
    "`np.cos(np.deg2rad(90))` should be zero, but the answer numpy gives might not be zero exactly. This is because `np.cos(np.deg2rad(90))` is actually cos($\\pi$/2), and try as it might Python cannot represent $\\pi$ exactly with only 8 bytes of information. Thus the value is not zero but very very small: I get `6.123233995736766e-17`. This means 6.1232 $\\times$ 10$^{-17}$ in scientific notation."
   ]
  },
  {
   "cell_type": "markdown",
   "metadata": {},
   "source": [
    "## Lists\n",
    "\n",
    "In the previous cell you found sines and cosines of three different angle values, one at a time. Some types of operations in Python can be done on \"groups\" of values at a time -- only in Python, they are not called groups but **lists**. \n",
    "\n",
    "In the next cell, a list called `angles` is defined, and a new list, `angle_radians`, is defined by calling `np.deg2rad` with `angles` as an argument. `print()` this list; make sure you understand what has been done.\n",
    "\n",
    "Immediately below, see if you can produce lists containing the sines and cosines of these angles in a similar fashion. Check that the values are the same as you found in the previous cell."
   ]
  },
  {
   "cell_type": "code",
   "execution_count": null,
   "metadata": {},
   "outputs": [],
   "source": [
    "angles = [0,45,90]\n",
    "angle_radians = np.deg2rad(angles)"
   ]
  },
  {
   "cell_type": "markdown",
   "metadata": {},
   "source": [
    "You can also have lists of variables of other types, such as strings. Try defining a list as\n",
    "```python\n",
    "listStr = ['0','45','90']\n",
    "```\n",
    "and printing it to see the output. Can you pass listStr as an argument to `np.sin()`? Why or why not?"
   ]
  },
  {
   "cell_type": "code",
   "execution_count": null,
   "metadata": {},
   "outputs": [],
   "source": []
  },
  {
   "cell_type": "markdown",
   "metadata": {},
   "source": [
    "## More complicated mathematical expressions\n",
    "\n",
    "Sometimes mathematical calculations involve many operations and it can be easy to make mistakes if you try to do them all at once.\n",
    "\n",
    "**Distance between points on the surface of a sphere**\n",
    "\n",
    "For instance, the shortest distance (\"great-circle\" distance) between 2 locations on the globe along the Earth's surface is given by\n",
    "\n",
    "$$d = r \\arccos[\\sin\\theta_1\\sin\\theta_2 + \\cos\\theta_1\\cos\\theta_2\\cos(\\phi_1 − \\phi_2)],$$\n",
    "\n",
    "where $\\theta$ is latitude and $\\phi$ is longitude (in radians) for points numbered 1 and 2. Distance is in the same units as $r$, the Earth radius. Use google to find the value of $r$. (*note: this formula assumes Earth is spherical, when it is in fact closer to an ellipse.*)\n",
    "\n",
    "In the cell below, try finding the distance of New York (40.67$^\\circ$N, 73.93$^\\circ$W) from Edinburgh (55.95$^\\circ$N, 3.18$^\\circ$W), using the above formula, within a single command. Remember to convert latitudes and longitudes from degrees to radians. Use negative values for latitudes south of the Equator and longitudes west of Greenwich. Remember to \"print\" the answer otherwise you will not see it! (However, do not spend too long on this, as the next cell describes a better way of doing this.)"
   ]
  },
  {
   "cell_type": "code",
   "execution_count": null,
   "metadata": {},
   "outputs": [],
   "source": [
    "dist = 0\n",
    "print (dist)"
   ]
  },
  {
   "cell_type": "markdown",
   "metadata": {},
   "source": [
    "What value did you get? Did you get an error? Does the answer seem reasonable? (the atlantic is several thousand km wide.) If you got an error or your answer does not make sense, this is because it is not a good idea to attempt *long complex expressions* when you can write *much shorter ones* with **intermediate variables**. Doing so will also make your code easier to follow -- and to fix errors.\n",
    "\n",
    "In the following cell, this approach is shown, but incomplete. Fill in the missing pieces. Does your result make sense? Is it the same as above? If they disagree, which is more likely to be correct?"
   ]
  },
  {
   "cell_type": "code",
   "execution_count": null,
   "metadata": {},
   "outputs": [],
   "source": [
    "lat1 = 40.67 # new york\n",
    "lon1 = -73.93 # new york\n",
    "# define lat2 and lon2\n",
    "\n",
    "\n",
    "radius = 6371\n",
    "\n",
    "lat1rad = np.deg2rad(lat1)\n",
    "lat2rad = np.deg2rad(lat2)\n",
    "# define more variables\n",
    "# define more variables\n",
    "\n",
    "\n",
    "\n",
    "sin1 = np.sin(lat1rad)\n",
    "sin2 = np.sin(lat2rad)\n",
    "# define more variables\n",
    "# define more variables\n",
    "\n",
    "\n",
    "lon_diff = lon1rad-lon2rad\n",
    "\n",
    "# define \"val\" -- what should it be? (hint: see next line)\n",
    "\n",
    "\n",
    "dist = radius * np.arccos(val)\n",
    "\n",
    "print(dist)"
   ]
  },
  {
   "cell_type": "markdown",
   "metadata": {},
   "source": [
    "Finally, look up the distance (using google) from Edinburgh to New York. Why might this be different from the answer you found?"
   ]
  }
 ],
 "metadata": {
  "kernelspec": {
   "display_name": "Python 3",
   "language": "python",
   "name": "python3"
  },
  "language_info": {
   "codemirror_mode": {
    "name": "ipython",
    "version": 3
   },
   "file_extension": ".py",
   "mimetype": "text/x-python",
   "name": "python",
   "nbconvert_exporter": "python",
   "pygments_lexer": "ipython3",
   "version": "3.7.6"
  }
 },
 "nbformat": 4,
 "nbformat_minor": 4
}
